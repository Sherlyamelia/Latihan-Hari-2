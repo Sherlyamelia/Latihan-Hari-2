{
 "cells": [
  {
   "cell_type": "code",
   "execution_count": 1,
   "id": "66705cd7-e70a-46fd-be4b-e35c5cbb32c9",
   "metadata": {},
   "outputs": [],
   "source": [
    "import numpy as np"
   ]
  },
  {
   "cell_type": "code",
   "execution_count": 5,
   "id": "40163aaf-eeb9-4267-8fa0-da1d2abc5ac3",
   "metadata": {},
   "outputs": [
    {
     "name": "stdout",
     "output_type": "stream",
     "text": [
      "[1 2 3 4 5]\n",
      "[[1 2 3]\n",
      " [4 5 6]]\n"
     ]
    }
   ],
   "source": [
    "#membuat array 1D\n",
    "arr = np.array([1,2,3,4,5])\n",
    "print(arr)\n",
    "\n",
    "#membuat array 2D dengan arr_2d\n",
    "arr_2d = np.array([[1,2,3], [4,5,6]])\n",
    "print(arr_2d)"
   ]
  },
  {
   "cell_type": "code",
   "execution_count": 7,
   "id": "b9bcade4-d408-4539-bd1b-e2ce33936ae5",
   "metadata": {},
   "outputs": [
    {
     "name": "stdout",
     "output_type": "stream",
     "text": [
      "[6 7 8]\n",
      "[2 4 6]\n"
     ]
    }
   ],
   "source": [
    "#mengkalikan /menjumlah isi array dengan data\n",
    "arr = np.array([1,2,3])\n",
    "print(arr+5) #menambahkan semua elemen dengan 5\n",
    "print(arr*2) #mengkalikan semua elemen dengan 2"
   ]
  },
  {
   "cell_type": "code",
   "execution_count": 9,
   "id": "c76744d0-1ed0-4a30-aed1-0366739c841a",
   "metadata": {},
   "outputs": [
    {
     "name": "stdout",
     "output_type": "stream",
     "text": [
      "15\n",
      "3.0\n",
      "5\n",
      "1\n"
     ]
    }
   ],
   "source": [
    "#mencari jumlah elemen dalam array \n",
    "arr = np.array([1,2,3,4,5])\n",
    "print(np.sum(arr)) #menjumlahkan elemen\n",
    "print(np.mean(arr)) #rata-rata elemen\n",
    "print(np.max(arr)) #nilai maksimum\n",
    "print(np.min(arr)) #nilai minimum"
   ]
  },
  {
   "cell_type": "code",
   "execution_count": 11,
   "id": "3bc10157-3933-499d-8e18-2a76123cdcec",
   "metadata": {},
   "outputs": [
    {
     "name": "stdout",
     "output_type": "stream",
     "text": [
      "[0 2 4 6 8]\n"
     ]
    }
   ],
   "source": [
    "#cara lain membuat array\n",
    "arr = np.arange(0,10,2) #membuat arraydari 0 hingga 9 dengan step 2\n",
    "print(arr)"
   ]
  },
  {
   "cell_type": "code",
   "execution_count": 17,
   "id": "4f0d5db8-0825-41f8-8cbc-b04e38fc7472",
   "metadata": {},
   "outputs": [
    {
     "name": "stdout",
     "output_type": "stream",
     "text": [
      "[5 7 9]\n",
      "[ 6 15]\n"
     ]
    }
   ],
   "source": [
    "#operasi pada array 2D\n",
    "arr_2d = np.array([[1,2,3], [4,5,6]])\n",
    "print(np.sum(arr_2d, axis=0)) #menjumlahkan setiap kolom\n",
    "print(np.sum(arr_2d, axis=1)) #menjumlahkan setiap baris\n"
   ]
  },
  {
   "cell_type": "code",
   "execution_count": 21,
   "id": "b4a22c5b-6007-419c-8661-496d9395a85e",
   "metadata": {},
   "outputs": [
    {
     "name": "stdout",
     "output_type": "stream",
     "text": [
      "[ 1  2  3  4  5  6  7  8  9 10 11 12]\n",
      "[[ 1  2  3  4]\n",
      " [ 5  6  7  8]\n",
      " [ 9 10 11 12]]\n"
     ]
    }
   ],
   "source": [
    "#mengubah array 1D menjadi 2D\n",
    "arr = np.arange(1,13)\n",
    "print(arr)\n",
    "arr_reshaped = arr.reshape(3,4)\n",
    "print(arr_reshaped)"
   ]
  },
  {
   "cell_type": "code",
   "execution_count": 23,
   "id": "053b1516-d78b-4f64-a07a-5a08b571efb5",
   "metadata": {},
   "outputs": [
    {
     "name": "stdout",
     "output_type": "stream",
     "text": [
      "[40 50]\n"
     ]
    }
   ],
   "source": [
    "#menyeleksi isi array\n",
    "arr = np.array([10,20,30,40,50])\n",
    "mask = arr >30\n",
    "print(arr[mask]) #menampilkan elemen yang lebih besar dari 30"
   ]
  },
  {
   "cell_type": "code",
   "execution_count": 25,
   "id": "307b257b-a7ec-465e-8135-223803baa114",
   "metadata": {},
   "outputs": [
    {
     "name": "stdout",
     "output_type": "stream",
     "text": [
      "[1 2 3 4 5 6]\n",
      "[array([1, 2, 3]), array([4, 5, 6])]\n"
     ]
    }
   ],
   "source": [
    "#menggabungkan array dan membagi array\n",
    "arr1 = np.array([1,2,3])\n",
    "arr2 = np.array([4,5,6])\n",
    "combined = np.concatenate((arr1, arr2)) #menggabungkan array\n",
    "print(combined)\n",
    "\n",
    "split = np.split(combined, 2) #membagi array menjadi 2 bagian\n",
    "print(split)"
   ]
  },
  {
   "cell_type": "code",
   "execution_count": 27,
   "id": "e748868f-912f-432f-bb5e-e76ac7dcbed4",
   "metadata": {},
   "outputs": [
    {
     "name": "stdout",
     "output_type": "stream",
     "text": [
      "[[0.46536223 0.29152092 0.67927783]\n",
      " [0.92718581 0.03828718 0.69757708]\n",
      " [0.47047373 0.20268699 0.23070067]]\n",
      "[[4 5 7]\n",
      " [7 3 9]]\n"
     ]
    }
   ],
   "source": [
    "#fungsi random int\n",
    "rand_arr = np.random.rand(3,3) #membuat array 3x3 dengan nilai random antara 0 dan 1\n",
    "print(rand_arr)\n",
    "\n",
    "randint_arr = np.random.randint(1,10, size=(2,3)) #membuat array 2x3 dengan angka integer random\n",
    "print(randint_arr)"
   ]
  },
  {
   "cell_type": "code",
   "execution_count": 31,
   "id": "8b54bd16-c35b-4350-a478-3c28ae78d7f0",
   "metadata": {},
   "outputs": [
    {
     "name": "stdout",
     "output_type": "stream",
     "text": [
      "[[11 12 13]\n",
      " [14 15 16]]\n"
     ]
    }
   ],
   "source": [
    "#fungsi scalar untuk mengkalikan/menjumlahkan angka tertentu\n",
    "arr = np.array([[1,2,3], [4,5,6]])\n",
    "scalar = 10\n",
    "print(arr + scalar) #broadcasting menambah semua elemen dengan scalar"
   ]
  },
  {
   "cell_type": "code",
   "execution_count": 33,
   "id": "d631b8b3-8fb2-4ceb-9273-3f191fdef598",
   "metadata": {},
   "outputs": [
    {
     "name": "stdout",
     "output_type": "stream",
     "text": [
      "[[19 22]\n",
      " [43 50]]\n",
      "[[-2.   1. ]\n",
      " [ 1.5 -0.5]]\n"
     ]
    }
   ],
   "source": [
    "#perkalian matriks\n",
    "A = np.array([[1,2], [3,4]])\n",
    "B = np.array([[5,6], [7,8]])\n",
    "result = np.dot(A,B) #perkalian matriks\n",
    "print(result)\n",
    "\n",
    "#invers matriks\n",
    "A_inv = np.linalg.inv(A)\n",
    "print(A_inv)"
   ]
  },
  {
   "cell_type": "code",
   "execution_count": 35,
   "id": "666f20cf-a50f-4ed5-ad15-9389dec6bbfc",
   "metadata": {},
   "outputs": [
    {
     "name": "stdout",
     "output_type": "stream",
     "text": [
      "Eigenvalues: [-0.37228132  5.37228132]\n",
      "Eigenvectors: [[-0.82456484 -0.41597356]\n",
      " [ 0.56576746 -0.90937671]]\n"
     ]
    }
   ],
   "source": [
    "matrix = np.array([[1,2], [3,4]])\n",
    "eigenvalues, eigenvectors = np.linalg.eig(matrix)\n",
    "print('Eigenvalues:', eigenvalues)\n",
    "print('Eigenvectors:', eigenvectors)"
   ]
  },
  {
   "cell_type": "code",
   "execution_count": 37,
   "id": "3be87d7b-61f9-4a2f-9ff5-987f75b72957",
   "metadata": {},
   "outputs": [
    {
     "name": "stdout",
     "output_type": "stream",
     "text": [
      "[1 2 4 7]\n",
      "[3 1 0 2]\n"
     ]
    }
   ],
   "source": [
    "arr = np.array([4,2,7,1])\n",
    "sorted_arr = np.sort(arr) #mengurutkan array\n",
    "print(sorted_arr)\n",
    "\n",
    "indices = np.argsort(arr) #mendapatkan index array yang diurutkan\n",
    "print(indices)"
   ]
  },
  {
   "cell_type": "code",
   "execution_count": 39,
   "id": "c253d420-5c56-46a1-aa49-ae93ca3b23be",
   "metadata": {},
   "outputs": [
    {
     "name": "stdout",
     "output_type": "stream",
     "text": [
      "[-1 -1 30 40]\n"
     ]
    }
   ],
   "source": [
    "#fungsi where untuk mengganti elemen tertentu dengan syarat\n",
    "arr = np.array([10,20,30,40])\n",
    "result = np.where(arr > 20, arr, -1) #ganti elemen yang lebih kecil dari 20 dengan -1\n",
    "print(result)"
   ]
  },
  {
   "cell_type": "code",
   "execution_count": 41,
   "id": "93fb4e1a-2159-47ae-b618-21e2fc448c40",
   "metadata": {},
   "outputs": [
    {
     "name": "stdout",
     "output_type": "stream",
     "text": [
      "[False False  True False False]\n",
      "[1. 2. 3. 4. 5.]\n"
     ]
    }
   ],
   "source": [
    "#memperbaiki missing data\n",
    "arr = np.array([1,2, np.nan,4,5])\n",
    "print(np.isnan(arr)) #memeriksa elemen nan\n",
    "\n",
    "#mengisi nilai nan dengan rata-rata elemen lainnya\n",
    "arr[np.isnan(arr)] = np.nanmean(arr)\n",
    "print(arr)"
   ]
  },
  {
   "cell_type": "code",
   "execution_count": 43,
   "id": "7e90b8a4-6090-4988-b77b-9c2991a49006",
   "metadata": {},
   "outputs": [
    {
     "name": "stdout",
     "output_type": "stream",
     "text": [
      "[ 0.84147098  0.90929743  0.14112001 -0.7568025  -0.95892427]\n"
     ]
    }
   ],
   "source": [
    "#menerapkan fungsi sinus\n",
    "arr = np.array([1,2,3,4,5])\n",
    "result = np.sin(arr) #fungsi sinus pada setiap elemen\n",
    "print(result)"
   ]
  },
  {
   "cell_type": "code",
   "execution_count": 45,
   "id": "b769980b-88be-49a5-8fa3-b100af7a32bb",
   "metadata": {},
   "outputs": [
    {
     "name": "stdout",
     "output_type": "stream",
     "text": [
      "Waktu dengan loop biasa: 0.006995201110839844\n",
      "Waktu dengan Numpy: 0.0019981861114501953\n"
     ]
    }
   ],
   "source": [
    "import time\n",
    "\n",
    "#menggunakan loop biasa\n",
    "start = time.time()\n",
    "result = [i**2 for i in range(10000)]\n",
    "end = time.time()\n",
    "print('Waktu dengan loop biasa:', end - start)\n",
    "\n",
    "#menggunakan numpy\n",
    "start = time.time()\n",
    "arr = np.arange(10000)\n",
    "result = arr**2\n",
    "end = time.time()\n",
    "print('Waktu dengan Numpy:', end - start)"
   ]
  },
  {
   "cell_type": "code",
   "execution_count": 49,
   "id": "957e25a3-7d4a-4128-8d29-99135da7a095",
   "metadata": {},
   "outputs": [
    {
     "name": "stdout",
     "output_type": "stream",
     "text": [
      "[ 1  2  3  4  5  6  7  8  9 10]\n"
     ]
    }
   ],
   "source": [
    "array_sederhana = np.arange(1, 11)\n",
    "print ( array_sederhana)"
   ]
  },
  {
   "cell_type": "code",
   "execution_count": 53,
   "id": "dd26ec3e-cc51-432e-a6dc-515f55fe813f",
   "metadata": {},
   "outputs": [
    {
     "name": "stdout",
     "output_type": "stream",
     "text": [
      "[ 3  6  9 12 15]\n"
     ]
    }
   ],
   "source": [
    "# Membuat array dari 1 hingga 5\n",
    "array_aritmatika = np.arange(1, 6)\n",
    "\n",
    "# Kalikan setiap elemen array dengan 3\n",
    "hasil_kali = array_aritmatika * 3\n",
    "print(hasil_kali)"
   ]
  },
  {
   "cell_type": "code",
   "execution_count": 55,
   "id": "76dbabf9-990d-45a6-92c0-43520d75df01",
   "metadata": {},
   "outputs": [
    {
     "name": "stdout",
     "output_type": "stream",
     "text": [
      "Matriks identitas 3x3:\n",
      " [[1. 0. 0.]\n",
      " [0. 1. 0.]\n",
      " [0. 0. 1.]]\n"
     ]
    }
   ],
   "source": [
    "# Membuat matriks identitas 3x3\n",
    "matriks_identitas = np.eye(3)\n",
    "print(\"Matriks identitas 3x3:\\n\", matriks_identitas)\n"
   ]
  },
  {
   "cell_type": "code",
   "execution_count": 57,
   "id": "62e4a35f-8a48-4bb4-8de4-25dc535d7ff0",
   "metadata": {},
   "outputs": [
    {
     "name": "stdout",
     "output_type": "stream",
     "text": [
      "Array acak 5x5:\n",
      " [[0.80315293 0.56228697 0.44323448 0.72971814 0.08384799]\n",
      " [0.85219044 0.45906899 0.28578334 0.59522902 0.16599575]\n",
      " [0.23631619 0.39095065 0.71544099 0.50302622 0.30345718]\n",
      " [0.72996523 0.5997893  0.40755807 0.12476054 0.29872801]\n",
      " [0.98027454 0.82905473 0.20747842 0.21905966 0.43035814]]\n",
      "Nilai maksimum dalam array: 0.9802745397893996\n"
     ]
    }
   ],
   "source": [
    "# Membuat array acak 5x5\n",
    "array_acak = np.random.rand(5, 5)\n",
    "\n",
    "# Mencari nilai maksimum\n",
    "nilai_maksimum = np.max(array_acak)\n",
    "print(\"Array acak 5x5:\\n\", array_acak)\n",
    "print(\"Nilai maksimum dalam array:\", nilai_maksimum)\n"
   ]
  },
  {
   "cell_type": "code",
   "execution_count": 89,
   "id": "98281359-836c-4b3b-b7ad-39808e099fb9",
   "metadata": {},
   "outputs": [
    {
     "name": "stdout",
     "output_type": "stream",
     "text": [
      "Array 2D 3x3:\n",
      " [[11 12 13]\n",
      " [14 15 16]\n",
      " [17 18 19]]\n"
     ]
    }
   ],
   "source": [
    "# Membuat array 1D dengan 9 elemen\n",
    "array_1D = np.arange(11, 20)\n",
    "\n",
    "# Mengubah menjadi array 2D berukuran 3x3\n",
    "array_2D = array_1D.reshape(3, 3)\n",
    "print(\"Array 2D 3x3:\\n\", array_2D)\n"
   ]
  },
  {
   "cell_type": "code",
   "execution_count": 75,
   "id": "b584b085-2655-4c3b-8a90-51f5b2b7e97d",
   "metadata": {},
   "outputs": [
    {
     "name": "stdout",
     "output_type": "stream",
     "text": [
      "Dot Product kedua matriks:\n",
      " [[17 15 14]\n",
      " [46 32 36]\n",
      " [47 29 28]]\n"
     ]
    }
   ],
   "source": [
    "# Membuat dua matriks 3x3\n",
    "matrix_A = np.array([[1, 1, 3], [2, 4, 6], [1, 3, 9]])\n",
    "matrix_B = np.array([[2, 8, 7], [6, 1, 4], [3, 2, 1]])\n",
    "\n",
    "# Menghitung dot product kedua matriks\n",
    "dot_product = np.dot(matrix_A, matrix_B)\n",
    "print( \"Dot Product kedua matriks:\\n\", dot_product)\n"
   ]
  },
  {
   "cell_type": "code",
   "execution_count": 77,
   "id": "f90090cc-4b10-4fb2-a49f-e1f4dba3ee68",
   "metadata": {},
   "outputs": [
    {
     "name": "stdout",
     "output_type": "stream",
     "text": [
      "Elemen indeks 3 sampai 7: [4 5 6 7 8]\n"
     ]
    }
   ],
   "source": [
    "# Membuat array 1D dari 1 hingga 10\n",
    "array = np.arange(1, 11)\n",
    "\n",
    "# Mengambil elemen pada indeks 3 sampai 7 (dari elemen ke-4 hingga ke-8)\n",
    "sliced_array = array[3:8]\n",
    "print(\"Elemen indeks 3 sampai 7:\", sliced_array)\n"
   ]
  },
  {
   "cell_type": "code",
   "execution_count": 79,
   "id": "ae21dd86-9af3-40b3-9c26-d1e6d8f051ee",
   "metadata": {},
   "outputs": [
    {
     "name": "stdout",
     "output_type": "stream",
     "text": [
      "Array gabungan: [1 2 3 4 5 6]\n"
     ]
    }
   ],
   "source": [
    "# Membuat dua array\n",
    "a = np.array([1, 2, 3])\n",
    "b = np.array([4, 5, 6])\n",
    "\n",
    "# Menggabungkan kedua array\n",
    "array_gabungan = np.concatenate((a, b))\n",
    "print(\"Array gabungan:\", array_gabungan)"
   ]
  },
  {
   "cell_type": "code",
   "execution_count": 81,
   "id": "6d898264-583f-4a69-bf23-df52fe27907a",
   "metadata": {},
   "outputs": [
    {
     "name": "stdout",
     "output_type": "stream",
     "text": [
      "Array setelah ditambah 10: [11 12 13 14]\n"
     ]
    }
   ],
   "source": [
    "# Membuat array dari 1 hingga 4\n",
    "array_broadcast = np.array([1, 2, 3, 4])\n",
    "\n",
    "# Menambahkan 10 ke setiap elemen array menggunakan broadcasting\n",
    "array_broadcast += 10\n",
    "print(\"Array setelah ditambah 10:\", array_broadcast)\n"
   ]
  },
  {
   "cell_type": "code",
   "execution_count": 87,
   "id": "ad08d926-7d95-4c72-b7c7-826a920ab725",
   "metadata": {},
   "outputs": [
    {
     "name": "stdout",
     "output_type": "stream",
     "text": [
      "Array acak: [24 46 77 25 48 51 88  5 57 50]\n",
      "Array setelah diurutkan: [ 5 24 25 46 48 50 51 57 77 88]\n"
     ]
    }
   ],
   "source": [
    "# Membuat array acak berisi 10 elemen\n",
    "array_acak = np.random.randint(1, 91, size=10)\n",
    "\n",
    "# Mengurutkan array\n",
    "array_urut = np.sort(array_acak)\n",
    "print(\"Array acak:\", array_acak)\n",
    "print(\"Array setelah diurutkan:\", array_urut)\n"
   ]
  },
  {
   "cell_type": "code",
   "execution_count": null,
   "id": "fb60cda3-1b93-4e6e-98d9-23a8917a523f",
   "metadata": {},
   "outputs": [],
   "source": []
  }
 ],
 "metadata": {
  "kernelspec": {
   "display_name": "Python 3 (ipykernel)",
   "language": "python",
   "name": "python3"
  },
  "language_info": {
   "codemirror_mode": {
    "name": "ipython",
    "version": 3
   },
   "file_extension": ".py",
   "mimetype": "text/x-python",
   "name": "python",
   "nbconvert_exporter": "python",
   "pygments_lexer": "ipython3",
   "version": "3.12.4"
  }
 },
 "nbformat": 4,
 "nbformat_minor": 5
}
